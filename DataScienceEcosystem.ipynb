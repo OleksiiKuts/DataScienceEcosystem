{
 "cells": [
  {
   "cell_type": "markdown",
   "id": "cc55cd83-2a94-4bde-9c6e-b5ce935b7874",
   "metadata": {},
   "source": [
    "# Data Science Tools and Ecosystem"
   ]
  },
  {
   "cell_type": "markdown",
   "id": "07775cf5-6a59-4a31-8c53-2fb27adabee4",
   "metadata": {},
   "source": [
    "In this notebook, Data Science Tools and Ecosystem are summarized."
   ]
  },
  {
   "cell_type": "markdown",
   "id": "941df310-cc5d-4dc5-8454-3e50506f3e0f",
   "metadata": {},
   "source": [
    "**Objectives:**\n",
    "\n",
    "- List popular languages for Data Science\n",
    "- Introduce common data science libraries\n",
    "- Explore development environment tools for data science\n",
    "- Demonstrate conversion of units (minutes to hours)"
   ]
  },
  {
   "cell_type": "markdown",
   "id": "1cd82263-e3e7-4b48-b2d9-5db4a43d9f35",
   "metadata": {},
   "source": [
    "Some of the popular languages that Data Scientists use are:\n",
    "1. SQL\n",
    "2. Python\n",
    "3. R\n",
    "4. Scala\n",
    "5. Julia"
   ]
  },
  {
   "cell_type": "markdown",
   "id": "261fcc65-4c1a-4669-b9fe-a737f1d3a198",
   "metadata": {},
   "source": [
    "Some of the commonly used libraries used by Data Scientists include:\n",
    "\n",
    "1. NumPy\n",
    "2. Pandas\n",
    "3. Matplotlib\n",
    "4. TensorFlow\n",
    "5. Seaborn"
   ]
  },
  {
   "cell_type": "markdown",
   "id": "13ae44ca-1c32-4353-9b6d-a759fbe26bc6",
   "metadata": {},
   "source": [
    "| Data Science Tools       |\n",
    "|--------------------------|\n",
    "| JupyterLab               |\n",
    "| RStudio                  |\n",
    "| Spyder                   |"
   ]
  },
  {
   "cell_type": "markdown",
   "id": "5f88ff87-0936-4962-8095-013cf8d3330f",
   "metadata": {},
   "source": [
    "### Below are a few examples of evaluating arithmetic expressions in Python"
   ]
  },
  {
   "cell_type": "code",
   "execution_count": 7,
   "id": "7bc49208-42be-4327-bb57-9fcc23942bbd",
   "metadata": {},
   "outputs": [
    {
     "data": {
      "text/plain": [
       "17"
      ]
     },
     "execution_count": 7,
     "metadata": {},
     "output_type": "execute_result"
    }
   ],
   "source": [
    "# This a simple arithmetic expression to mutiply then add integers\n",
    "(3*4)+5"
   ]
  },
  {
   "cell_type": "code",
   "execution_count": 11,
   "id": "00a834ed-02c7-4d81-ba98-2d86c04b62ec",
   "metadata": {},
   "outputs": [
    {
     "data": {
      "text/plain": [
       "3.33"
      ]
     },
     "execution_count": 11,
     "metadata": {},
     "output_type": "execute_result"
    }
   ],
   "source": [
    "# This will convert 200 minutes to hours by dividing by 60\n",
    "round(200 / 60, 2)"
   ]
  },
  {
   "cell_type": "markdown",
   "id": "b9a51c79-7622-489d-8a6d-30a7365da6ca",
   "metadata": {},
   "source": [
    "## Author\n",
    "Oleksii"
   ]
  }
 ],
 "metadata": {
  "kernelspec": {
   "display_name": "Python 3 (ipykernel)",
   "language": "python",
   "name": "python3"
  },
  "language_info": {
   "codemirror_mode": {
    "name": "ipython",
    "version": 3
   },
   "file_extension": ".py",
   "mimetype": "text/x-python",
   "name": "python",
   "nbconvert_exporter": "python",
   "pygments_lexer": "ipython3",
   "version": "3.12.4"
  }
 },
 "nbformat": 4,
 "nbformat_minor": 5
}
